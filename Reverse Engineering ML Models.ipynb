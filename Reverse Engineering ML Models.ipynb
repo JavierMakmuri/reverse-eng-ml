{
 "cells": [
  {
   "cell_type": "code",
   "execution_count": 14,
   "id": "4982a928",
   "metadata": {},
   "outputs": [],
   "source": [
    "%matplotlib inline\n",
    "\n",
    "import tensorflow as tf\n",
    "from tensorflow import keras\n",
    "import numpy as np\n",
    "from matplotlib import pyplot as plt\n",
    "from keras.models import Sequential\n",
    "from keras import layers\n",
    "from sklearn.metrics import confusion_matrix\n",
    "from sklearn.utils import shuffle"
   ]
  },
  {
   "cell_type": "markdown",
   "id": "664407f6",
   "metadata": {},
   "source": [
    "### Helper Functions"
   ]
  },
  {
   "cell_type": "code",
   "execution_count": 2,
   "id": "d2c30fde",
   "metadata": {},
   "outputs": [],
   "source": [
    "# wrapper to show dataset images\n",
    "def show_image(img, label):\n",
    "    plt.imshow(img, cmap='gray')\n",
    "    plt.title(\"Label for the image is {}\".format(label))\n",
    "\n",
    "# print at most 5 images and discards the rest\n",
    "def show_images(images):\n",
    "    num_images = len(images)\n",
    "    nrows = 1\n",
    "    ncols = min(5, num_images)\n",
    "    fig, axeslist = plt.subplots(ncols=ncols, nrows=nrows)\n",
    "    for i in range(ncols):\n",
    "        axeslist.ravel()[i].imshow(images[i], cmap='gray')\n",
    "        axeslist.ravel()[i].set_axis_off()\n",
    "\n",
    "# print out model accuracy and confusion matrix\n",
    "def get_metrics(model, x, y):\n",
    "    assert len(x) == len(y), \"datapoints and labels are not of the same length\"\n",
    "    pred = np.argmax(model.predict(x), axis=1, keepdims=False).astype(\"uint8\")\n",
    "    accuracy = np.count_nonzero(y - pred == 0) / len(y)\n",
    "    conf_matrix = confusion_matrix(y, pred)\n",
    "    print(\"\")\n",
    "    print(\"Model Accuracy: {0:.2f}%\".format(accuracy*100))\n",
    "    print(\"\")\n",
    "    print(\"Confusion Matrix:\")\n",
    "    print(conf_matrix)\n",
    "    print(\"\")\n",
    "    plt.matshow(conf_matrix, cmap='gray')"
   ]
  },
  {
   "cell_type": "markdown",
   "id": "9a933595",
   "metadata": {},
   "source": [
    "# Initial Training of Model (Optional Section)"
   ]
  },
  {
   "cell_type": "markdown",
   "id": "4262a0c7",
   "metadata": {},
   "source": [
    "### Load Dataset"
   ]
  },
  {
   "cell_type": "code",
   "execution_count": 3,
   "id": "c89d15a5",
   "metadata": {},
   "outputs": [],
   "source": [
    "(x_train, y_train), (x_test, y_test) = keras.datasets.mnist.load_data()"
   ]
  },
  {
   "cell_type": "code",
   "execution_count": 4,
   "id": "6744279e",
   "metadata": {},
   "outputs": [
    {
     "name": "stdout",
     "output_type": "stream",
     "text": [
      "The training set contains 60000 datapoints\n",
      "The test set contains 10000 datapoints\n",
      "Each image is of size: (28, 28)\n"
     ]
    }
   ],
   "source": [
    "print(\"The training set contains {} datapoints\".format(len(x_train)))\n",
    "print(\"The test set contains {} datapoints\".format(len(x_test)))\n",
    "print(\"Each image is of size: {}\".format(x_train[0].shape))"
   ]
  },
  {
   "cell_type": "markdown",
   "id": "c75c47cd",
   "metadata": {},
   "source": [
    "The cell below shows what the images from the dataset looks like \\\n",
    "MNIST, the dataset we're using, is comprised of handwritten digits from 0 - 9 \\\n",
    "Each image is 28x28 pixels \\\n",
    "Feel free to change the indexing below to get different images (e.g [5:10], [100:105], ...)"
   ]
  },
  {
   "cell_type": "code",
   "execution_count": 5,
   "id": "ee553092",
   "metadata": {},
   "outputs": [
    {
     "data": {
      "image/png": "[encoded data removed]",
      "text/plain": [
       "<Figure size 640x480 with 5 Axes>"
      ]
     },
     "metadata": {},
     "output_type": "display_data"
    }
   ],
   "source": [
    "img_multi = x_train[:5]\n",
    "show_images(img_multi)"
   ]
  },
  {
   "cell_type": "markdown",
   "id": "ad64f72c",
   "metadata": {},
   "source": [
    "You can view a single image from the dataset below by changing the index"
   ]
  },
  {
   "cell_type": "code",
   "execution_count": 6,
   "id": "fcf92204",
   "metadata": {},
   "outputs": [
    {
     "data": {
      "image/png": "[encoded data removed]",
      "text/plain": [
       "<Figure size 640x480 with 1 Axes>"
      ]
     },
     "metadata": {},
     "output_type": "display_data"
    }
   ],
   "source": [
    "idx = 100\n",
    "show_image(x_train[idx], y_train[idx])"
   ]
  },
  {
   "cell_type": "code",
   "execution_count": 7,
   "id": "5555bd05",
   "metadata": {},
   "outputs": [],
   "source": [
    "# Normalize data and split training set -> train + validation set\n",
    "x_train, x_test = x_train/255, x_test/255\n",
    "x_train, x_valid = x_train[:55000], x_train[55000:]\n",
    "y_train, y_valid = y_train[:55000], y_train[55000:]"
   ]
  },
  {
   "cell_type": "markdown",
   "id": "ee9ab253",
   "metadata": {},
   "source": [
    "### Training the model"
   ]
  },
  {
   "cell_type": "markdown",
   "id": "d03418e0",
   "metadata": {},
   "source": [
    "note: using SELU as activation will guarantee self normalization and stabilize gradients if all layers in the neural network are fully connected layers and are initialized with \"lecun_norma\" \\\n",
    "https://www.tensorflow.org/api_docs/python/tf/keras/initializers/LecunNormal \\\n",
    "https://arxiv.org/abs/1706.02515 - SELU paper"
   ]
  },
  {
   "cell_type": "code",
   "execution_count": 8,
   "id": "0e0790e9",
   "metadata": {},
   "outputs": [],
   "source": [
    "# Define model architecture\n",
    "model = Sequential([\n",
    "    layers.Flatten(input_shape=[28,28]),\n",
    "    layers.Dense(500, activation=\"selu\", kernel_initializer=\"lecun_normal\"),\n",
    "    layers.Dense(300, activation=\"selu\", kernel_initializer=\"lecun_normal\"),\n",
    "    layers.Dense(100, activation=\"selu\", kernel_initializer=\"lecun_normal\"),\n",
    "    layers.Dense(10, activation=\"softmax\")\n",
    "])"
   ]
  },
  {
   "cell_type": "code",
   "execution_count": 9,
   "id": "1c62e337",
   "metadata": {},
   "outputs": [
    {
     "name": "stdout",
     "output_type": "stream",
     "text": [
      "Model: \"sequential\"\n",
      "_________________________________________________________________\n",
      " Layer (type)                Output Shape              Param #   \n",
      "=================================================================\n",
      " flatten (Flatten)           (None, 784)               0         \n",
      "                                                                 \n",
      " dense (Dense)               (None, 500)               392500    \n",
      "                                                                 \n",
      " dense_1 (Dense)             (None, 300)               150300    \n",
      "                                                                 \n",
      " dense_2 (Dense)             (None, 100)               30100     \n",
      "                                                                 \n",
      " dense_3 (Dense)             (None, 10)                1010      \n",
      "                                                                 \n",
      "=================================================================\n",
      "Total params: 573,910\n",
      "Trainable params: 573,910\n",
      "Non-trainable params: 0\n",
      "_________________________________________________________________\n"
     ]
    }
   ],
   "source": [
    "# you can see an overview of the model\n",
    "model.summary()"
   ]
  },
  {
   "cell_type": "code",
   "execution_count": 10,
   "id": "c63052b6",
   "metadata": {},
   "outputs": [],
   "source": [
    "# setup early stopping callback to stop model training when it stops improving and saves the best model\n",
    "early_stopping = keras.callbacks.EarlyStopping(patience=5, restore_best_weights=True)"
   ]
  },
  {
   "cell_type": "code",
   "execution_count": 11,
   "id": "afb9de00",
   "metadata": {},
   "outputs": [
    {
     "name": "stdout",
     "output_type": "stream",
     "text": [
      "Epoch 1/30\n",
      "1719/1719 [==============================] - 5s 3ms/step - loss: 0.2683 - accuracy: 0.9183 - val_loss: 0.1366 - val_accuracy: 0.9562\n",
      "Epoch 2/30\n",
      "1719/1719 [==============================] - 4s 2ms/step - loss: 0.1483 - accuracy: 0.9552 - val_loss: 0.1091 - val_accuracy: 0.9674\n",
      "Epoch 3/30\n",
      "1719/1719 [==============================] - 4s 2ms/step - loss: 0.1121 - accuracy: 0.9658 - val_loss: 0.1142 - val_accuracy: 0.9702\n",
      "Epoch 4/30\n",
      "1719/1719 [==============================] - 4s 2ms/step - loss: 0.0965 - accuracy: 0.9713 - val_loss: 0.1274 - val_accuracy: 0.9682\n",
      "Epoch 5/30\n",
      "1719/1719 [==============================] - 4s 2ms/step - loss: 0.0832 - accuracy: 0.9746 - val_loss: 0.1077 - val_accuracy: 0.9722\n",
      "Epoch 6/30\n",
      "1719/1719 [==============================] - 4s 2ms/step - loss: 0.0740 - accuracy: 0.9773 - val_loss: 0.1124 - val_accuracy: 0.9730\n",
      "Epoch 7/30\n",
      "1719/1719 [==============================] - 4s 2ms/step - loss: 0.0629 - accuracy: 0.9808 - val_loss: 0.1278 - val_accuracy: 0.9734\n",
      "Epoch 8/30\n",
      "1719/1719 [==============================] - 4s 2ms/step - loss: 0.0591 - accuracy: 0.9819 - val_loss: 0.1061 - val_accuracy: 0.9710\n",
      "Epoch 9/30\n",
      "1719/1719 [==============================] - 4s 2ms/step - loss: 0.0534 - accuracy: 0.9843 - val_loss: 0.1098 - val_accuracy: 0.9756\n",
      "Epoch 10/30\n",
      "1719/1719 [==============================] - 4s 2ms/step - loss: 0.0485 - accuracy: 0.9855 - val_loss: 0.1204 - val_accuracy: 0.9740\n",
      "Epoch 11/30\n",
      "1719/1719 [==============================] - 4s 2ms/step - loss: 0.0451 - accuracy: 0.9864 - val_loss: 0.1559 - val_accuracy: 0.9718\n",
      "Epoch 12/30\n",
      "1719/1719 [==============================] - 4s 2ms/step - loss: 0.0454 - accuracy: 0.9873 - val_loss: 0.1383 - val_accuracy: 0.9722\n",
      "Epoch 13/30\n",
      "1719/1719 [==============================] - 4s 2ms/step - loss: 0.0416 - accuracy: 0.9880 - val_loss: 0.1266 - val_accuracy: 0.9784\n"
     ]
    }
   ],
   "source": [
    "# run model training\n",
    "model.compile(loss=\"sparse_categorical_crossentropy\", optimizer=\"adam\", metrics=[\"accuracy\"])\n",
    "model.fit(x_train, y_train, epochs=30, validation_data=(x_valid, y_valid), callbacks=[early_stopping])\n",
    "\n",
    "# saves model\n",
    "model.save(\"mnist_model.h5\")"
   ]
  },
  {
   "cell_type": "markdown",
   "id": "f5ac1602",
   "metadata": {},
   "source": [
    "### Model Evaluation"
   ]
  },
  {
   "cell_type": "markdown",
   "id": "a7a4a348",
   "metadata": {},
   "source": [
    "Now that we have trained the model on the training set, we're going to check how the model performs on unseen data. This is important to prevent overfitting, where a model is unable to generalize well to unseen data since it has \"memorized\" the training data. \\\n",
    "https://en.wikipedia.org/wiki/Overfitting \\\n",
    "\\\n",
    "We are using our own custom function to get include a confusion matrix but tensorflow has its own native function .evaluate(datapoints, labels) which will show something like: \\\n",
    "\\\n",
    "313/313 [==============================] - 1s 2ms/step - loss: 0.1207 - accuracy: 0.9681"
   ]
  },
  {
   "cell_type": "code",
   "execution_count": 121,
   "id": "082257cb",
   "metadata": {},
   "outputs": [
    {
     "name": "stdout",
     "output_type": "stream",
     "text": [
      "313/313 [==============================] - 0s 1ms/step\n",
      "\n",
      "Model Accuracy: 96.81%\n",
      "\n",
      "Confusion Matrix:\n",
      "[[ 966    0    0    2    0    1    4    1    6    0]\n",
      " [   6 1112    2    1    2    1    2    2    7    0]\n",
      " [   2    1 1001    9    2    0    3    5    9    0]\n",
      " [   0    0    9  976    0    7    0    5   12    1]\n",
      " [   1    0    0    0  959    0   12    0    5    5]\n",
      " [   2    0    0   21    1  842   10    3   11    2]\n",
      " [   3    2    0    0    1    6  945    0    1    0]\n",
      " [   2    2   15    1    5    0    0  994    5    4]\n",
      " [   1    1    2    4    0    3    1    6  955    1]\n",
      " [   2    3    0    7   10    7    2   28   19  931]]\n",
      "\n"
     ]
    },
    {
     "data": {
      "image/png": "[encoded data removed]",
      "text/plain": [
       "<Figure size 480x480 with 1 Axes>"
      ]
     },
     "metadata": {},
     "output_type": "display_data"
    }
   ],
   "source": [
    "get_metrics(model, x_test, y_test)"
   ]
  },
  {
   "cell_type": "markdown",
   "id": "cda78e24",
   "metadata": {},
   "source": [
    "# Reverse Engineering The Model"
   ]
  },
  {
   "cell_type": "markdown",
   "id": "dce99d96",
   "metadata": {},
   "source": [
    "In this step, we assume that we have the model but no datapoints at all. What we want to do here is to create synthetic datapoints and run them through the model to get the model's output. The model's output is represented as a probability distribution over predicted output classes. This distribution sums to 1. The class with the highest probability during inference is the chosen as the prediction value."
   ]
  },
  {
   "cell_type": "code",
   "execution_count": 5,
   "id": "0c0d682a",
   "metadata": {},
   "outputs": [],
   "source": [
    "# loading the model we trained\n",
    "# you can skip this step if you're continuing from above\n",
    "model = keras.models.load_model('mnist_model.h5')"
   ]
  },
  {
   "cell_type": "code",
   "execution_count": 21,
   "id": "299349db",
   "metadata": {},
   "outputs": [
    {
     "name": "stdout",
     "output_type": "stream",
     "text": [
      "1/1 [==============================] - 0s 12ms/step\n",
      "[[0. 0. 0. 0. 0. 0. 0. 1. 0. 0.]]\n",
      "\n",
      "predicted class: 7\n"
     ]
    }
   ],
   "source": [
    "# This cell shows the output of the model\n",
    "output = model.predict(x_test[:1])\n",
    "class_prediction = np.argmax(output)\n",
    "print(output)\n",
    "print(\"\")\n",
    "print(\"predicted class: {}\".format(class_prediction))"
   ]
  },
  {
   "cell_type": "code",
   "execution_count": 15,
   "id": "ea5442d8",
   "metadata": {},
   "outputs": [],
   "source": [
    "# load synthetic images made of random numbers\n",
    "# you can find the script to generate the images at the bottom of this notebook\n",
    "# here we are just loading the data\n",
    "x_synthetic = np.load('synthetic_mnist_data.npy')\n",
    "y_synthetic = np.load('synthetic_mnist_labels.npy')\n",
    "\n",
    "x_synthetic, y_synthetic = shuffle(x_synthetic, y_synthetic, random_state=26)\n",
    "\n",
    "assert(len(x_synthetic) == len(y_synthetic))\n",
    "assert(x_synthetic.shape == (139118, 28, 28))\n",
    "assert(y_synthetic.shape == (139118,))"
   ]
  },
  {
   "cell_type": "code",
   "execution_count": 20,
   "id": "2c55bf92",
   "metadata": {},
   "outputs": [
    {
     "data": {
      "image/png": "[encoded data removed]",
      "text/plain": [
       "<Figure size 640x480 with 5 Axes>"
      ]
     },
     "metadata": {},
     "output_type": "display_data"
    }
   ],
   "source": [
    "# you can see what each generated datapoints look like\n",
    "# note that they do not look like handwritten digits or represent anything\n",
    "show_images(x_synthetic[:5])"
   ]
  },
  {
   "cell_type": "code",
   "execution_count": 68,
   "id": "1019f03a",
   "metadata": {},
   "outputs": [
    {
     "data": {
      "image/png": "[encoded data removed]",
      "text/plain": [
       "<Figure size 640x480 with 1 Axes>"
      ]
     },
     "metadata": {},
     "output_type": "display_data"
    }
   ],
   "source": [
    "show_image(x_synthetic[0], y_synthetic[0])"
   ]
  },
  {
   "cell_type": "markdown",
   "id": "40f4e4c3",
   "metadata": {},
   "source": [
    "Previously we mentioned that we want to avoid overfitting so that the model can generalize well. Now, we intentionally want to overfit the model to approximate the function of the model we want to clone."
   ]
  },
  {
   "cell_type": "code",
   "execution_count": 59,
   "id": "eecec085",
   "metadata": {},
   "outputs": [],
   "source": [
    "# Define cloned model architecture\n",
    "model_clone = Sequential([\n",
    "    layers.Flatten(input_shape=[28,28]),\n",
    "    layers.Dense(500, activation=\"selu\", kernel_initializer=\"lecun_normal\"),\n",
    "    layers.Dense(400, activation=\"selu\", kernel_initializer=\"lecun_normal\"),\n",
    "    layers.Dense(300, activation=\"selu\", kernel_initializer=\"lecun_normal\"),\n",
    "    layers.Dense(200, activation=\"selu\", kernel_initializer=\"lecun_normal\"),\n",
    "    layers.Dense(100, activation=\"selu\", kernel_initializer=\"lecun_normal\"),\n",
    "    layers.Dense(10, activation=\"softmax\")\n",
    "])"
   ]
  },
  {
   "cell_type": "code",
   "execution_count": 60,
   "id": "fc4fd705",
   "metadata": {},
   "outputs": [
    {
     "name": "stdout",
     "output_type": "stream",
     "text": [
      "Model: \"sequential_9\"\n",
      "_________________________________________________________________\n",
      " Layer (type)                Output Shape              Param #   \n",
      "=================================================================\n",
      " flatten_9 (Flatten)         (None, 784)               0         \n",
      "                                                                 \n",
      " dense_10 (Dense)            (None, 500)               392500    \n",
      "                                                                 \n",
      " dense_11 (Dense)            (None, 400)               200400    \n",
      "                                                                 \n",
      " dense_12 (Dense)            (None, 300)               120300    \n",
      "                                                                 \n",
      " dense_13 (Dense)            (None, 200)               60200     \n",
      "                                                                 \n",
      " dense_14 (Dense)            (None, 100)               20100     \n",
      "                                                                 \n",
      " dense_15 (Dense)            (None, 10)                1010      \n",
      "                                                                 \n",
      "=================================================================\n",
      "Total params: 794,510\n",
      "Trainable params: 794,510\n",
      "Non-trainable params: 0\n",
      "_________________________________________________________________\n"
     ]
    }
   ],
   "source": [
    "model_clone.summary()"
   ]
  },
  {
   "cell_type": "code",
   "execution_count": 61,
   "id": "8ae6cd00",
   "metadata": {},
   "outputs": [],
   "source": [
    "# model training step\n",
    "# model_clone.compile(loss=\"mean_squared_error\", optimizer=\"adam\", metrics=[\"mean_squared_error\"])\n",
    "model_clone.compile(loss=\"sparse_categorical_crossentropy\", optimizer=\"adam\", metrics=[\"accuracy\"])"
   ]
  },
  {
   "cell_type": "code",
   "execution_count": 49,
   "id": "c7b7cfdd",
   "metadata": {},
   "outputs": [],
   "source": [
    "# run this cell if you defined early stopping in the section above\n",
    "early_stopping = keras.callbacks.EarlyStopping(patience=5, restore_best_weights=True)"
   ]
  },
  {
   "cell_type": "code",
   "execution_count": 62,
   "id": "4c4d63c4",
   "metadata": {},
   "outputs": [
    {
     "name": "stdout",
     "output_type": "stream",
     "text": [
      "Epoch 1/20\n",
      "8695/8695 [==============================] - 36s 4ms/step - loss: 1.3755 - accuracy: 0.5126 - val_loss: 1.0777 - val_accuracy: 0.6149\n",
      "Epoch 2/20\n",
      "8695/8695 [==============================] - 37s 4ms/step - loss: 0.9982 - accuracy: 0.6444 - val_loss: 0.7472 - val_accuracy: 0.7306\n",
      "Epoch 3/20\n",
      "8695/8695 [==============================] - 35s 4ms/step - loss: 0.7605 - accuracy: 0.7273 - val_loss: 0.5767 - val_accuracy: 0.7963\n",
      "Epoch 4/20\n",
      "8695/8695 [==============================] - 39s 4ms/step - loss: 0.8179 - accuracy: 0.7733 - val_loss: 0.8324 - val_accuracy: 0.7946\n",
      "Epoch 5/20\n",
      "8695/8695 [==============================] - 34s 4ms/step - loss: 0.8068 - accuracy: 0.7859 - val_loss: 0.5571 - val_accuracy: 0.8338\n",
      "Epoch 6/20\n",
      "8695/8695 [==============================] - 38s 4ms/step - loss: 0.4964 - accuracy: 0.8262 - val_loss: 0.3468 - val_accuracy: 0.8814\n",
      "Epoch 7/20\n",
      "8695/8695 [==============================] - 34s 4ms/step - loss: 0.4197 - accuracy: 0.8548 - val_loss: 0.2789 - val_accuracy: 0.9108\n",
      "Epoch 8/20\n",
      "8695/8695 [==============================] - 39s 4ms/step - loss: 0.9497 - accuracy: 0.8651 - val_loss: 0.3533 - val_accuracy: 0.8776\n",
      "Epoch 9/20\n",
      "8695/8695 [==============================] - 35s 4ms/step - loss: 0.2949 - accuracy: 0.9014 - val_loss: 0.2117 - val_accuracy: 0.9305\n",
      "Epoch 10/20\n",
      "8695/8695 [==============================] - 38s 4ms/step - loss: 0.3036 - accuracy: 0.8992 - val_loss: 0.9234 - val_accuracy: 0.9334\n",
      "Epoch 11/20\n",
      "8695/8695 [==============================] - 36s 4ms/step - loss: 1.0685 - accuracy: 0.9019 - val_loss: 0.2389 - val_accuracy: 0.9235\n",
      "Epoch 12/20\n",
      "8695/8695 [==============================] - 38s 4ms/step - loss: 1.1586 - accuracy: 0.9167 - val_loss: 0.2761 - val_accuracy: 0.9117\n",
      "Epoch 13/20\n",
      "8695/8695 [==============================] - 37s 4ms/step - loss: 0.2282 - accuracy: 0.9264 - val_loss: 0.1548 - val_accuracy: 0.9555\n",
      "Epoch 14/20\n",
      "8695/8695 [==============================] - 38s 4ms/step - loss: 0.2573 - accuracy: 0.9182 - val_loss: 0.3100 - val_accuracy: 0.9409\n",
      "Epoch 15/20\n",
      "8695/8695 [==============================] - 37s 4ms/step - loss: 1.5171 - accuracy: 0.9214 - val_loss: 2.8549 - val_accuracy: 0.9274\n",
      "Epoch 16/20\n",
      "8695/8695 [==============================] - 39s 4ms/step - loss: 2.7941 - accuracy: 0.9061 - val_loss: 0.7198 - val_accuracy: 0.8888\n",
      "Epoch 17/20\n",
      "8695/8695 [==============================] - 36s 4ms/step - loss: 0.5150 - accuracy: 0.8917 - val_loss: 0.2131 - val_accuracy: 0.9290\n",
      "Epoch 18/20\n",
      "8695/8695 [==============================] - 37s 4ms/step - loss: 0.2496 - accuracy: 0.9209 - val_loss: 0.2116 - val_accuracy: 0.9330\n"
     ]
    },
    {
     "data": {
      "text/plain": [
       "<keras.callbacks.History at 0x1e4a3353790>"
      ]
     },
     "execution_count": 62,
     "metadata": {},
     "output_type": "execute_result"
    }
   ],
   "source": [
    "model_clone.fit(x_synthetic, y_synthetic, batch_size=16, epochs=20, validation_data=(x_synthetic, y_synthetic), callbacks=[early_stopping])"
   ]
  },
  {
   "cell_type": "code",
   "execution_count": 63,
   "id": "42cf7d89",
   "metadata": {},
   "outputs": [],
   "source": [
    "# save cloned model\n",
    "model_clone.save(\"mnist_model_clone.h5\")"
   ]
  },
  {
   "cell_type": "code",
   "execution_count": 64,
   "id": "e26a592b",
   "metadata": {},
   "outputs": [
    {
     "name": "stdout",
     "output_type": "stream",
     "text": [
      "313/313 [==============================] - 0s 1ms/step\n",
      "\n",
      "Model Accuracy: 54.65%\n",
      "\n",
      "Confusion Matrix:\n",
      "[[ 25   0   2  44   0 858  14  23  13   1]\n",
      " [  0 615   5 464   0  35   1  10   5   0]\n",
      " [  3   0 361 139   0 432   0  97   0   0]\n",
      " [  0   0   1 979   0  22   0   7   1   0]\n",
      " [ 15   2   2  59   3  30  21 818   6  26]\n",
      " [  2   0   0  72   0 813   0   2   1   2]\n",
      " [  0   0   0  22   0  21 909   6   0   0]\n",
      " [  0   2   3  25   0   9   0 974   1  14]\n",
      " [  0   0   0 937   0  26   0   9   1   1]\n",
      " [  2   3   1 184   0  14   2  15   3 785]]\n",
      "\n"
     ]
    },
    {
     "data": {
      "image/png": "[encoded data removed]",
      "text/plain": [
       "<Figure size 480x480 with 1 Axes>"
      ]
     },
     "metadata": {},
     "output_type": "display_data"
    }
   ],
   "source": [
    "get_metrics(model_clone, x_test, y_test)"
   ]
  },
  {
   "cell_type": "code",
   "execution_count": 65,
   "id": "4ac132c4",
   "metadata": {},
   "outputs": [
    {
     "name": "stdout",
     "output_type": "stream",
     "text": [
      "{7: 1028, 2: 1032, 1: 1135, 0: 980, 4: 982, 9: 1009, 5: 892, 6: 958, 3: 1010, 8: 974}\n"
     ]
    }
   ],
   "source": [
    "d = {}\n",
    "for i in y_test:\n",
    "    if i in d:\n",
    "        d[i] += 1\n",
    "    else:\n",
    "        d[i] = 1\n",
    "print(d)"
   ]
  },
  {
   "cell_type": "markdown",
   "id": "b672d7c5",
   "metadata": {},
   "source": [
    "## Data Gen (Optional Section)"
   ]
  },
  {
   "cell_type": "code",
   "execution_count": 5,
   "id": "4c19bcdd",
   "metadata": {},
   "outputs": [],
   "source": [
    "gen = np.random.randn(1000000, 28, 28)"
   ]
  },
  {
   "cell_type": "code",
   "execution_count": 6,
   "id": "c16caf20",
   "metadata": {},
   "outputs": [
    {
     "name": "stdout",
     "output_type": "stream",
     "text": [
      "31250/31250 [==============================] - 35s 1ms/step\n"
     ]
    }
   ],
   "source": [
    "preds = model.predict(tf.convert_to_tensor(gen))"
   ]
  },
  {
   "cell_type": "code",
   "execution_count": 7,
   "id": "1856c632",
   "metadata": {},
   "outputs": [
    {
     "data": {
      "text/plain": [
       "(1000000, 10)"
      ]
     },
     "execution_count": 7,
     "metadata": {},
     "output_type": "execute_result"
    }
   ],
   "source": [
    "preds.shape"
   ]
  },
  {
   "cell_type": "code",
   "execution_count": 8,
   "id": "44569484",
   "metadata": {},
   "outputs": [],
   "source": [
    "labels = np.argmax(preds, axis=1)"
   ]
  },
  {
   "cell_type": "code",
   "execution_count": 9,
   "id": "e6aaa523",
   "metadata": {},
   "outputs": [
    {
     "name": "stdout",
     "output_type": "stream",
     "text": [
      "for label 0, random has generated (10063, 28, 28)\n",
      "for label 1, random has generated (150146, 28, 28)\n",
      "for label 2, random has generated (177533, 28, 28)\n",
      "for label 3, random has generated (209448, 28, 28)\n",
      "for label 4, random has generated (62630, 28, 28)\n",
      "for label 5, random has generated (133597, 28, 28)\n",
      "for label 6, random has generated (42259, 28, 28)\n",
      "for label 7, random has generated (175199, 28, 28)\n",
      "for label 8, random has generated (9055, 28, 28)\n",
      "for label 9, random has generated (30070, 28, 28)\n"
     ]
    }
   ],
   "source": [
    "generated_data = {}\n",
    "for i in range(10):\n",
    "    l = labels==i\n",
    "    gx = gen[l]\n",
    "    generated_data[i] = gx\n",
    "    print(\"for label {}, random has generated {}\".format(i, gx.shape))"
   ]
  },
  {
   "cell_type": "code",
   "execution_count": 11,
   "id": "384985ac",
   "metadata": {},
   "outputs": [],
   "source": [
    "concat = generated_data[0]\n",
    "for i in range(1, 10):\n",
    "    to_add = generated_data[i][:15000]\n",
    "    concat = np.concatenate((concat, to_add))"
   ]
  },
  {
   "cell_type": "code",
   "execution_count": 12,
   "id": "98918434",
   "metadata": {},
   "outputs": [
    {
     "data": {
      "text/plain": [
       "(139118, 28, 28)"
      ]
     },
     "execution_count": 12,
     "metadata": {},
     "output_type": "execute_result"
    }
   ],
   "source": [
    "concat.shape"
   ]
  },
  {
   "cell_type": "code",
   "execution_count": 13,
   "id": "38172d3a",
   "metadata": {},
   "outputs": [
    {
     "data": {
      "text/plain": [
       "139118"
      ]
     },
     "execution_count": 13,
     "metadata": {},
     "output_type": "execute_result"
    }
   ],
   "source": [
    "(15000*8) + 10063 + 9055"
   ]
  },
  {
   "cell_type": "code",
   "execution_count": 14,
   "id": "cf6f6334",
   "metadata": {},
   "outputs": [],
   "source": [
    "np.save('synthetic_mnist_data.npy', concat)"
   ]
  },
  {
   "cell_type": "code",
   "execution_count": 17,
   "id": "d4f39939",
   "metadata": {},
   "outputs": [],
   "source": [
    "labels = []\n",
    "for i in range(10):\n",
    "    if i == 0:\n",
    "        labels += [0 for j in range(10063)]\n",
    "    elif i == 8:\n",
    "        labels += [8 for j in range(9055)]\n",
    "    else:\n",
    "        labels += [i for j in range(15000)]"
   ]
  },
  {
   "cell_type": "code",
   "execution_count": 18,
   "id": "95a7b151",
   "metadata": {},
   "outputs": [
    {
     "data": {
      "text/plain": [
       "139118"
      ]
     },
     "execution_count": 18,
     "metadata": {},
     "output_type": "execute_result"
    }
   ],
   "source": [
    "len(labels)"
   ]
  },
  {
   "cell_type": "code",
   "execution_count": 19,
   "id": "316310b4",
   "metadata": {},
   "outputs": [],
   "source": [
    "np_labels = np.array(labels)"
   ]
  },
  {
   "cell_type": "code",
   "execution_count": 20,
   "id": "39d438d1",
   "metadata": {},
   "outputs": [
    {
     "data": {
      "text/plain": [
       "(139118,)"
      ]
     },
     "execution_count": 20,
     "metadata": {},
     "output_type": "execute_result"
    }
   ],
   "source": [
    "np_labels.shape"
   ]
  },
  {
   "cell_type": "code",
   "execution_count": 21,
   "id": "ac0d7c09",
   "metadata": {},
   "outputs": [],
   "source": [
    "np.save('synthetic_mnist_labels.npy', np_labels)"
   ]
  }
 ],
 "metadata": {
  "kernelspec": {
   "display_name": "Python 3 (ipykernel)",
   "language": "python",
   "name": "python3"
  },
  "language_info": {
   "codemirror_mode": {
    "name": "ipython",
    "version": 3
   },
   "file_extension": ".py",
   "mimetype": "text/x-python",
   "name": "python",
   "nbconvert_exporter": "python",
   "pygments_lexer": "ipython3",
   "version": "3.10.6"
  }
 },
 "nbformat": 4,
 "nbformat_minor": 5
}
